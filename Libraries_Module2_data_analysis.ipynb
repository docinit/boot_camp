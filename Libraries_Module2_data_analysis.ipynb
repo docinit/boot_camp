{
 "cells": [
  {
   "cell_type": "markdown",
   "id": "1b9e48f2-0de2-48d3-9c42-fe37f88124e1",
   "metadata": {
    "tags": []
   },
   "source": [
    "# Модуль 2. Анализ данных"
   ]
  },
  {
   "cell_type": "code",
   "execution_count": 34,
   "id": "b0213324-6bb9-452c-96c5-4510794a904c",
   "metadata": {},
   "outputs": [],
   "source": [
    "import pandas as pd\n",
    "import numpy as np\n",
    "import seaborn as sns"
   ]
  },
  {
   "cell_type": "code",
   "execution_count": 35,
   "id": "6adb4669-9c0e-4bb8-b3de-78e4a62c1171",
   "metadata": {},
   "outputs": [],
   "source": [
    "df = sns.load_dataset('iris')"
   ]
  },
  {
   "cell_type": "code",
   "execution_count": 36,
   "id": "4af7e949-8308-4592-b31b-375ce71cdb1e",
   "metadata": {},
   "outputs": [
    {
     "data": {
      "text/html": [
       "<div>\n",
       "<style scoped>\n",
       "    .dataframe tbody tr th:only-of-type {\n",
       "        vertical-align: middle;\n",
       "    }\n",
       "\n",
       "    .dataframe tbody tr th {\n",
       "        vertical-align: top;\n",
       "    }\n",
       "\n",
       "    .dataframe thead th {\n",
       "        text-align: right;\n",
       "    }\n",
       "</style>\n",
       "<table border=\"1\" class=\"dataframe\">\n",
       "  <thead>\n",
       "    <tr style=\"text-align: right;\">\n",
       "      <th></th>\n",
       "      <th>sepal_length</th>\n",
       "      <th>sepal_width</th>\n",
       "      <th>petal_length</th>\n",
       "      <th>petal_width</th>\n",
       "    </tr>\n",
       "  </thead>\n",
       "  <tbody>\n",
       "    <tr>\n",
       "      <th>count</th>\n",
       "      <td>150.000000</td>\n",
       "      <td>150.000000</td>\n",
       "      <td>150.000000</td>\n",
       "      <td>150.000000</td>\n",
       "    </tr>\n",
       "    <tr>\n",
       "      <th>mean</th>\n",
       "      <td>5.843333</td>\n",
       "      <td>3.057333</td>\n",
       "      <td>3.758000</td>\n",
       "      <td>1.199333</td>\n",
       "    </tr>\n",
       "    <tr>\n",
       "      <th>std</th>\n",
       "      <td>0.828066</td>\n",
       "      <td>0.435866</td>\n",
       "      <td>1.765298</td>\n",
       "      <td>0.762238</td>\n",
       "    </tr>\n",
       "    <tr>\n",
       "      <th>min</th>\n",
       "      <td>4.300000</td>\n",
       "      <td>2.000000</td>\n",
       "      <td>1.000000</td>\n",
       "      <td>0.100000</td>\n",
       "    </tr>\n",
       "    <tr>\n",
       "      <th>25%</th>\n",
       "      <td>5.100000</td>\n",
       "      <td>2.800000</td>\n",
       "      <td>1.600000</td>\n",
       "      <td>0.300000</td>\n",
       "    </tr>\n",
       "    <tr>\n",
       "      <th>50%</th>\n",
       "      <td>5.800000</td>\n",
       "      <td>3.000000</td>\n",
       "      <td>4.350000</td>\n",
       "      <td>1.300000</td>\n",
       "    </tr>\n",
       "    <tr>\n",
       "      <th>75%</th>\n",
       "      <td>6.400000</td>\n",
       "      <td>3.300000</td>\n",
       "      <td>5.100000</td>\n",
       "      <td>1.800000</td>\n",
       "    </tr>\n",
       "    <tr>\n",
       "      <th>max</th>\n",
       "      <td>7.900000</td>\n",
       "      <td>4.400000</td>\n",
       "      <td>6.900000</td>\n",
       "      <td>2.500000</td>\n",
       "    </tr>\n",
       "  </tbody>\n",
       "</table>\n",
       "</div>"
      ],
      "text/plain": [
       "       sepal_length  sepal_width  petal_length  petal_width\n",
       "count    150.000000   150.000000    150.000000   150.000000\n",
       "mean       5.843333     3.057333      3.758000     1.199333\n",
       "std        0.828066     0.435866      1.765298     0.762238\n",
       "min        4.300000     2.000000      1.000000     0.100000\n",
       "25%        5.100000     2.800000      1.600000     0.300000\n",
       "50%        5.800000     3.000000      4.350000     1.300000\n",
       "75%        6.400000     3.300000      5.100000     1.800000\n",
       "max        7.900000     4.400000      6.900000     2.500000"
      ]
     },
     "execution_count": 36,
     "metadata": {},
     "output_type": "execute_result"
    }
   ],
   "source": [
    "df.describe()"
   ]
  },
  {
   "cell_type": "code",
   "execution_count": 37,
   "id": "13ae359c-e1f4-40ae-89a6-b5b95309c4be",
   "metadata": {},
   "outputs": [
    {
     "name": "stdout",
     "output_type": "stream",
     "text": [
      "<class 'pandas.core.frame.DataFrame'>\n",
      "RangeIndex: 150 entries, 0 to 149\n",
      "Data columns (total 5 columns):\n",
      " #   Column        Non-Null Count  Dtype  \n",
      "---  ------        --------------  -----  \n",
      " 0   sepal_length  150 non-null    float64\n",
      " 1   sepal_width   150 non-null    float64\n",
      " 2   petal_length  150 non-null    float64\n",
      " 3   petal_width   150 non-null    float64\n",
      " 4   species       150 non-null    object \n",
      "dtypes: float64(4), object(1)\n",
      "memory usage: 6.0+ KB\n"
     ]
    }
   ],
   "source": [
    "df.info()"
   ]
  },
  {
   "cell_type": "code",
   "execution_count": 38,
   "id": "0152cada-8ca0-4230-a536-880ccd472392",
   "metadata": {},
   "outputs": [
    {
     "data": {
      "text/html": [
       "<div>\n",
       "<style scoped>\n",
       "    .dataframe tbody tr th:only-of-type {\n",
       "        vertical-align: middle;\n",
       "    }\n",
       "\n",
       "    .dataframe tbody tr th {\n",
       "        vertical-align: top;\n",
       "    }\n",
       "\n",
       "    .dataframe thead th {\n",
       "        text-align: right;\n",
       "    }\n",
       "</style>\n",
       "<table border=\"1\" class=\"dataframe\">\n",
       "  <thead>\n",
       "    <tr style=\"text-align: right;\">\n",
       "      <th></th>\n",
       "      <th>sepal_length</th>\n",
       "      <th>sepal_width</th>\n",
       "      <th>petal_length</th>\n",
       "      <th>petal_width</th>\n",
       "      <th>species</th>\n",
       "      <th>sepal_square</th>\n",
       "      <th>petal_square</th>\n",
       "      <th>sepal_petal_ratio</th>\n",
       "    </tr>\n",
       "  </thead>\n",
       "  <tbody>\n",
       "    <tr>\n",
       "      <th>0</th>\n",
       "      <td>5.1</td>\n",
       "      <td>3.5</td>\n",
       "      <td>1.4</td>\n",
       "      <td>0.2</td>\n",
       "      <td>setosa</td>\n",
       "      <td>17.85</td>\n",
       "      <td>0.28</td>\n",
       "      <td>12.500000</td>\n",
       "    </tr>\n",
       "    <tr>\n",
       "      <th>1</th>\n",
       "      <td>4.9</td>\n",
       "      <td>3.0</td>\n",
       "      <td>1.4</td>\n",
       "      <td>0.2</td>\n",
       "      <td>setosa</td>\n",
       "      <td>14.70</td>\n",
       "      <td>0.28</td>\n",
       "      <td>10.714286</td>\n",
       "    </tr>\n",
       "    <tr>\n",
       "      <th>2</th>\n",
       "      <td>4.7</td>\n",
       "      <td>3.2</td>\n",
       "      <td>1.3</td>\n",
       "      <td>0.2</td>\n",
       "      <td>setosa</td>\n",
       "      <td>15.04</td>\n",
       "      <td>0.26</td>\n",
       "      <td>12.307692</td>\n",
       "    </tr>\n",
       "    <tr>\n",
       "      <th>3</th>\n",
       "      <td>4.6</td>\n",
       "      <td>3.1</td>\n",
       "      <td>1.5</td>\n",
       "      <td>0.2</td>\n",
       "      <td>setosa</td>\n",
       "      <td>14.26</td>\n",
       "      <td>0.30</td>\n",
       "      <td>10.333333</td>\n",
       "    </tr>\n",
       "    <tr>\n",
       "      <th>4</th>\n",
       "      <td>5.0</td>\n",
       "      <td>3.6</td>\n",
       "      <td>1.4</td>\n",
       "      <td>0.2</td>\n",
       "      <td>setosa</td>\n",
       "      <td>18.00</td>\n",
       "      <td>0.28</td>\n",
       "      <td>12.857143</td>\n",
       "    </tr>\n",
       "  </tbody>\n",
       "</table>\n",
       "</div>"
      ],
      "text/plain": [
       "   sepal_length  sepal_width  petal_length  petal_width species  sepal_square  \\\n",
       "0           5.1          3.5           1.4          0.2  setosa         17.85   \n",
       "1           4.9          3.0           1.4          0.2  setosa         14.70   \n",
       "2           4.7          3.2           1.3          0.2  setosa         15.04   \n",
       "3           4.6          3.1           1.5          0.2  setosa         14.26   \n",
       "4           5.0          3.6           1.4          0.2  setosa         18.00   \n",
       "\n",
       "   petal_square  sepal_petal_ratio  \n",
       "0          0.28          12.500000  \n",
       "1          0.28          10.714286  \n",
       "2          0.26          12.307692  \n",
       "3          0.30          10.333333  \n",
       "4          0.28          12.857143  "
      ]
     },
     "execution_count": 38,
     "metadata": {},
     "output_type": "execute_result"
    }
   ],
   "source": [
    "df['sepal_square'] = df['sepal_length'] * df['sepal_width']\n",
    "df['petal_square'] = df['petal_length'] * df['petal_width']\n",
    "df['sepal_petal_ratio'] = df['sepal_width'] / df['petal_square']\n",
    "df.head()"
   ]
  },
  {
   "cell_type": "code",
   "execution_count": 61,
   "id": "8f34c3d3-8454-4ac9-a74c-92e24475bcc2",
   "metadata": {},
   "outputs": [],
   "source": [
    "from sklearn.metrics import confusion_matrix, auc, mean_squared_error, recall_score, precision_score, r2_score, \n",
    "from sklearn.preprocessing import StandardScaler, LabelEncoder\n",
    "from sklearn.model_selection import train_test_split\n",
    "from sklearn.tree import DecisionTreeClassifier, ExtraTreeClassifier\n",
    "from sklearn.ensemble import AdaBoostClassifier, GradientBoostingClassifier, RandomForestClassifier\n",
    "from sklearn.linear_model import LogisticRegression"
   ]
  },
  {
   "cell_type": "code",
   "execution_count": 69,
   "id": "cd79ef06-d185-40a0-b8c0-caee3122e8fc",
   "metadata": {},
   "outputs": [],
   "source": [
    "encoder = LabelEncoder()\n",
    "target = encoder.fit_transform(df['species'])\n",
    "data = df.drop('species',axis = 1)\n",
    "data['target'] = target\n",
    "data_1 = data[data.target == 0]\n",
    "data_2 = data[data.target == 1]\n",
    "data_3 = data[data.target == 2]"
   ]
  },
  {
   "cell_type": "code",
   "execution_count": 85,
   "id": "6e33a197-826a-43f2-9521-337f36932c9a",
   "metadata": {},
   "outputs": [
    {
     "data": {
      "text/plain": [
       "((105, 7), (45, 7), (105,), (45,))"
      ]
     },
     "execution_count": 85,
     "metadata": {},
     "output_type": "execute_result"
    }
   ],
   "source": [
    "dtc = DecisionTreeClassifier()\n",
    "etc = ExtraTreeClassifier()\n",
    "abc = AdaBoostClassifier()\n",
    "gbc = GradientBoostingClassifier()\n",
    "rfc = RandomForestClassifier()\n",
    "lgc = LogisticRegression()\n",
    "x_train_1, x_test_1,y_train_1, y_test_1 = train_test_split(data_1.drop('target',axis = 1),data_1.target,test_size=0.3,random_state=10)\n",
    "x_train_2, x_test_2,y_train_2, y_test_2 = train_test_split(data_2.drop('target',axis = 1),data_2.target,test_size=0.3,random_state=10)\n",
    "x_train_3, x_test_3,y_train_3, y_test_3 = train_test_split(data_3.drop('target',axis = 1),data_3.target,test_size=0.3,random_state=10)\n",
    "x_train = pd.concat([x_train_1,x_train_2,x_train_3])\n",
    "x_test = pd.concat([x_test_1,x_test_2,x_test_3])\n",
    "y_train = pd.concat([y_train_1,y_train_2,y_train_3])\n",
    "y_test = pd.concat([y_test_1,y_test_2,y_test_3])\n",
    "x_train.shape,x_test.shape,y_train.shape,y_test.shape"
   ]
  },
  {
   "cell_type": "markdown",
   "id": "02f2a816-16eb-4308-966c-9bdb86c91e25",
   "metadata": {},
   "source": [
    "### DecisionTreeClassifier"
   ]
  },
  {
   "cell_type": "code",
   "execution_count": 177,
   "id": "e87366d3-2a24-409a-9e61-2f6c438d5238",
   "metadata": {},
   "outputs": [
    {
     "name": "stdout",
     "output_type": "stream",
     "text": [
      "r2 = 0.9333333333333333, \n",
      "recall = 0.9555555555555556, \n",
      "precision = 0.9555555555555556\n"
     ]
    }
   ],
   "source": [
    "dtc.fit(x_train,y_train)\n",
    "y_hat = np.argwhere(dtc.predict_proba(x_test)==1)\n",
    "r2 = r2_score(y_test,y_hat[:,1])\n",
    "recall = recall_score(y_test,y_hat[:,1], average='weighted')\n",
    "precision = precision_score(y_test,y_hat[:,1], average='weighted')\n",
    "print(f'r2 = {r2}, \\nrecall = {recall}, \\nprecision = {precision}')"
   ]
  },
  {
   "cell_type": "markdown",
   "id": "5f36d88e-bf10-4896-a215-2e59c055ad15",
   "metadata": {},
   "source": [
    "### ExtraTreeClassifier"
   ]
  },
  {
   "cell_type": "code",
   "execution_count": 178,
   "id": "7cd5be6a-21d9-41ab-81db-b19959a2e4c3",
   "metadata": {},
   "outputs": [
    {
     "name": "stdout",
     "output_type": "stream",
     "text": [
      "r2 = 0.9, \n",
      "recall = 0.9333333333333333, \n",
      "precision = 0.9345238095238095\n"
     ]
    }
   ],
   "source": [
    "etc.fit(x_train,y_train)\n",
    "y_hat = np.argwhere(etc.predict_proba(x_test)==1)\n",
    "r2 = r2_score(y_test,y_hat[:,1])\n",
    "recall = recall_score(y_test,y_hat[:,1], average='weighted')\n",
    "precision = precision_score(y_test,y_hat[:,1], average='weighted')\n",
    "print(f'r2 = {r2}, \\nrecall = {recall}, \\nprecision = {precision}')"
   ]
  },
  {
   "cell_type": "markdown",
   "id": "ab5c6305-edd7-4805-9c02-7c969835f056",
   "metadata": {},
   "source": [
    "### AdaBoostClassifier"
   ]
  },
  {
   "cell_type": "code",
   "execution_count": 157,
   "id": "b11d471c-3744-494c-99a3-545ef0838c90",
   "metadata": {
    "scrolled": true
   },
   "outputs": [
    {
     "data": {
      "text/plain": [
       "0.9333333333333333"
      ]
     },
     "execution_count": 157,
     "metadata": {},
     "output_type": "execute_result"
    }
   ],
   "source": [
    "abc.fit(x_train,y_train)\n",
    "y_hat = [np.argwhere(i==i.max())[0][0] for k,i in enumerate(abc.predict_proba(x_test))]\n",
    "r2 = r2_score(y_test,y_hat)\n",
    "r2"
   ]
  },
  {
   "cell_type": "markdown",
   "id": "ad20cebd-262c-4c50-bb69-22e4d19245df",
   "metadata": {},
   "source": [
    "### GradientBoostingClassifier"
   ]
  },
  {
   "cell_type": "code",
   "execution_count": 180,
   "id": "0e9608bc-c599-4c9f-b028-fd028cf7f795",
   "metadata": {},
   "outputs": [
    {
     "name": "stdout",
     "output_type": "stream",
     "text": [
      "r2 = 0.9333333333333333, \n",
      "recall = 0.9555555555555556, \n",
      "precision = 0.9607843137254902\n"
     ]
    }
   ],
   "source": [
    "gbc.fit(x_train,y_train)\n",
    "y_hat = [np.argwhere(i==i.max())[0][0] for k,i in enumerate(gbc.predict_proba(x_test))]\n",
    "r2 = r2_score(y_test,y_hat)\n",
    "recall = recall_score(y_test,y_hat, average='weighted')\n",
    "precision = precision_score(y_test,y_hat, average='weighted')\n",
    "print(f'r2 = {r2}, \\nrecall = {recall}, \\nprecision = {precision}')"
   ]
  },
  {
   "cell_type": "markdown",
   "id": "536b4204-dc07-4901-8073-7b0a6ebf40b1",
   "metadata": {},
   "source": [
    "### RandomForestClassifier"
   ]
  },
  {
   "cell_type": "code",
   "execution_count": 181,
   "id": "04271cb4-5b19-435c-bb23-e3521f1a4ef5",
   "metadata": {},
   "outputs": [
    {
     "name": "stdout",
     "output_type": "stream",
     "text": [
      "r2 = 0.9333333333333333, \n",
      "recall = 0.9555555555555556, \n",
      "precision = 0.9555555555555556\n"
     ]
    }
   ],
   "source": [
    "rfc.fit(x_train,y_train)\n",
    "y_hat = [np.argwhere(i==i.max())[0][0] for k,i in enumerate(rfc.predict_proba(x_test))]\n",
    "r2 = r2_score(y_test,y_hat)\n",
    "recall = recall_score(y_test,y_hat, average='weighted')\n",
    "precision = precision_score(y_test,y_hat, average='weighted')\n",
    "print(f'r2 = {r2}, \\nrecall = {recall}, \\nprecision = {precision}')"
   ]
  },
  {
   "cell_type": "markdown",
   "id": "c83d4268-ddb1-44d6-97e2-3aa8d2be48f2",
   "metadata": {},
   "source": [
    "### LogisticRegression"
   ]
  },
  {
   "cell_type": "code",
   "execution_count": 182,
   "id": "ac1bb13f-b64f-411e-b3af-67ab88580c7a",
   "metadata": {},
   "outputs": [
    {
     "name": "stdout",
     "output_type": "stream",
     "text": [
      "r2 = 0.9666666666666667, \n",
      "recall = 0.9777777777777777, \n",
      "precision = 0.9791666666666666\n"
     ]
    }
   ],
   "source": [
    "st_scaler = StandardScaler()\n",
    "x_train_lgc = st_scaler.fit_transform(x_train)\n",
    "lgc.fit(x_train_lgc,y_train)\n",
    "x_test_lgc = st_scaler.transform(x_test)\n",
    "y_hat = [np.argwhere(i==i.max())[0][0] for k,i in enumerate(lgc.predict_proba(x_test_lgc))]\n",
    "r2 = r2_score(y_test,y_hat)\n",
    "recall = recall_score(y_test,y_hat, average='weighted')\n",
    "precision = precision_score(y_test,y_hat, average='weighted')\n",
    "print(f'r2 = {r2}, \\nrecall = {recall}, \\nprecision = {precision}')"
   ]
  }
 ],
 "metadata": {
  "kernelspec": {
   "display_name": "Python 3 (ipykernel)",
   "language": "python",
   "name": "python3"
  },
  "language_info": {
   "codemirror_mode": {
    "name": "ipython",
    "version": 3
   },
   "file_extension": ".py",
   "mimetype": "text/x-python",
   "name": "python",
   "nbconvert_exporter": "python",
   "pygments_lexer": "ipython3",
   "version": "3.9.7"
  }
 },
 "nbformat": 4,
 "nbformat_minor": 5
}
