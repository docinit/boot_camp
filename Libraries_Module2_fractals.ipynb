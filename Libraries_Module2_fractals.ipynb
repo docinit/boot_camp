{
 "cells": [
  {
   "cell_type": "markdown",
   "id": "5fdc7de4-e2b9-4f93-a78f-6eeb022e6cd8",
   "metadata": {},
   "source": [
    "##  Fractals"
   ]
  },
  {
   "cell_type": "code",
   "execution_count": 3,
   "id": "30c7665e-a7d0-4576-9805-880f661eccca",
   "metadata": {
    "scrolled": true
   },
   "outputs": [],
   "source": [
    "import turtle\n",
    "\n",
    "def circle():\n",
    "    turtle.Screen().setup(400,300)\n",
    "    for x in list(range(50,1,-10)):\n",
    "        for i in list(range(4)):\n",
    "            turtle.circle(x)\n",
    "            turtle.left(90)\n",
    "\n",
    "turtle.speed(0)\n",
    "turtle.clear()\n",
    "circle()"
   ]
  },
  {
   "cell_type": "code",
   "execution_count": 4,
   "id": "148d3fc2-747d-409c-b38e-34bb05edd9c9",
   "metadata": {},
   "outputs": [],
   "source": [
    "import turtle\n",
    "\n",
    "def linear():\n",
    "    turtle.hideturtle()\n",
    "    turtle.Screen().setup(800,600)\n",
    "    for x in list(range(20,1,-2)):\n",
    "        for i in list(range(4)):\n",
    "            for i in list(range(4)):\n",
    "                turtle.forward(x)\n",
    "                turtle.left(90)\n",
    "            turtle.left(270)\n",
    "            \n",
    "turtle.speed(0)\n",
    "turtle.clear()\n",
    "linear()"
   ]
  },
  {
   "cell_type": "code",
   "execution_count": 5,
   "id": "53c25090-bcdd-41b0-8f1d-44e76c0e7df7",
   "metadata": {},
   "outputs": [],
   "source": [
    "import turtle\n",
    "\n",
    "def linear():\n",
    "    turtle.hideturtle()\n",
    "    turtle.speed(200)\n",
    "    turtle.Screen().setup(800,800)\n",
    "    turtle.goto(0,0)\n",
    "    for x in list(range(80,1,-2)):\n",
    "        for i in list(range(4)):\n",
    "            turtle.forward(x)\n",
    "            turtle.right(45)\n",
    "            turtle.forward(x)\n",
    "            turtle.left(135)\n",
    "            turtle.forward(x)\n",
    "            turtle.right(45)\n",
    "            \n",
    "turtle.speed(0)\n",
    "turtle.clear()\n",
    "linear()"
   ]
  },
  {
   "cell_type": "code",
   "execution_count": null,
   "id": "65ccce0f-02e1-4419-96a2-efc922824395",
   "metadata": {},
   "outputs": [],
   "source": [
    "import turtle\n",
    "\n",
    "def linear(count):\n",
    "    for x in list(range(count)):\n",
    "        turtle.hideturtle()\n",
    "        turtle.Screen().setup(800,800)\n",
    "        for x in list(range(80,1,-2)):\n",
    "            for i in list(range(4)):\n",
    "                turtle.forward(x)\n",
    "                turtle.right(45)\n",
    "                turtle.forward(x)\n",
    "                turtle.right(-90)\n",
    "                turtle.forward(x)\n",
    "                turtle.right(45)\n",
    "                turtle.forward(x)\n",
    "                turtle.right(120)\n",
    "        turtle.goto([-120,100])\n",
    "        turtle.right(-60)\n",
    "        \n",
    "count = 6\n",
    "turtle.speed(0)\n",
    "turtle.goto([-120,100])\n",
    "turtle.clear()\n",
    "linear(count)"
   ]
  }
 ],
 "metadata": {
  "kernelspec": {
   "display_name": "Python 3 (ipykernel)",
   "language": "python",
   "name": "python3"
  },
  "language_info": {
   "codemirror_mode": {
    "name": "ipython",
    "version": 3
   },
   "file_extension": ".py",
   "mimetype": "text/x-python",
   "name": "python",
   "nbconvert_exporter": "python",
   "pygments_lexer": "ipython3",
   "version": "3.9.7"
  }
 },
 "nbformat": 4,
 "nbformat_minor": 5
}
