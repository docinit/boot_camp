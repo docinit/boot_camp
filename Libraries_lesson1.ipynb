{
 "cells": [
  {
   "cell_type": "markdown",
   "id": "abcdd419-9e9f-4858-8650-a83479f75f54",
   "metadata": {
    "tags": []
   },
   "source": [
    "# Libraries"
   ]
  },
  {
   "cell_type": "markdown",
   "id": "8d8a9390-c6a5-4652-acd5-1d3d4e31182b",
   "metadata": {},
   "source": [
    "## lesson 1"
   ]
  },
  {
   "cell_type": "markdown",
   "id": "e79273c6-f798-468d-92d9-a294854e1d21",
   "metadata": {},
   "source": [
    "* 1"
   ]
  },
  {
   "cell_type": "code",
   "execution_count": 2,
   "id": "6aa9728f-640b-4687-bce8-c8312db5dfb8",
   "metadata": {},
   "outputs": [
    {
     "data": {
      "text/html": [
       "<div>\n",
       "<style scoped>\n",
       "    .dataframe tbody tr th:only-of-type {\n",
       "        vertical-align: middle;\n",
       "    }\n",
       "\n",
       "    .dataframe tbody tr th {\n",
       "        vertical-align: top;\n",
       "    }\n",
       "\n",
       "    .dataframe thead th {\n",
       "        text-align: right;\n",
       "    }\n",
       "</style>\n",
       "<table border=\"1\" class=\"dataframe\">\n",
       "  <thead>\n",
       "    <tr style=\"text-align: right;\">\n",
       "      <th></th>\n",
       "      <th>Date</th>\n",
       "      <th>Open</th>\n",
       "      <th>High</th>\n",
       "      <th>Low</th>\n",
       "      <th>Close</th>\n",
       "      <th>Adj Close</th>\n",
       "      <th>Volume</th>\n",
       "      <th>Company</th>\n",
       "    </tr>\n",
       "  </thead>\n",
       "  <tbody>\n",
       "    <tr>\n",
       "      <th>0</th>\n",
       "      <td>07-08-2017</td>\n",
       "      <td>39.264999</td>\n",
       "      <td>39.730000</td>\n",
       "      <td>39.167500</td>\n",
       "      <td>39.702499</td>\n",
       "      <td>37.585022</td>\n",
       "      <td>87481200</td>\n",
       "      <td>AAPL</td>\n",
       "    </tr>\n",
       "    <tr>\n",
       "      <th>1</th>\n",
       "      <td>08-08-2017</td>\n",
       "      <td>39.650002</td>\n",
       "      <td>40.457500</td>\n",
       "      <td>39.567501</td>\n",
       "      <td>40.020000</td>\n",
       "      <td>37.885582</td>\n",
       "      <td>144823600</td>\n",
       "      <td>AAPL</td>\n",
       "    </tr>\n",
       "    <tr>\n",
       "      <th>2</th>\n",
       "      <td>09-08-2017</td>\n",
       "      <td>39.814999</td>\n",
       "      <td>40.317501</td>\n",
       "      <td>39.777500</td>\n",
       "      <td>40.264999</td>\n",
       "      <td>38.117512</td>\n",
       "      <td>104526000</td>\n",
       "      <td>AAPL</td>\n",
       "    </tr>\n",
       "    <tr>\n",
       "      <th>3</th>\n",
       "      <td>10-08-2017</td>\n",
       "      <td>39.974998</td>\n",
       "      <td>40.000000</td>\n",
       "      <td>38.657501</td>\n",
       "      <td>38.830002</td>\n",
       "      <td>36.903397</td>\n",
       "      <td>163217200</td>\n",
       "      <td>AAPL</td>\n",
       "    </tr>\n",
       "    <tr>\n",
       "      <th>4</th>\n",
       "      <td>11-08-2017</td>\n",
       "      <td>39.150002</td>\n",
       "      <td>39.642502</td>\n",
       "      <td>39.017502</td>\n",
       "      <td>39.369999</td>\n",
       "      <td>37.416603</td>\n",
       "      <td>105028400</td>\n",
       "      <td>AAPL</td>\n",
       "    </tr>\n",
       "  </tbody>\n",
       "</table>\n",
       "</div>"
      ],
      "text/plain": [
       "         Date       Open       High        Low      Close  Adj Close  \\\n",
       "0  07-08-2017  39.264999  39.730000  39.167500  39.702499  37.585022   \n",
       "1  08-08-2017  39.650002  40.457500  39.567501  40.020000  37.885582   \n",
       "2  09-08-2017  39.814999  40.317501  39.777500  40.264999  38.117512   \n",
       "3  10-08-2017  39.974998  40.000000  38.657501  38.830002  36.903397   \n",
       "4  11-08-2017  39.150002  39.642502  39.017502  39.369999  37.416603   \n",
       "\n",
       "      Volume Company  \n",
       "0   87481200    AAPL  \n",
       "1  144823600    AAPL  \n",
       "2  104526000    AAPL  \n",
       "3  163217200    AAPL  \n",
       "4  105028400    AAPL  "
      ]
     },
     "execution_count": 2,
     "metadata": {},
     "output_type": "execute_result"
    }
   ],
   "source": [
    "import pandas as pd\n",
    "\n",
    "df = pd.read_csv('./Libraries/kaggle_data_stock_prices/ZAll_Combine_Stock_Histry.csv')\n",
    "df.head()"
   ]
  },
  {
   "cell_type": "code",
   "execution_count": 3,
   "id": "1ea46976-9204-4e7b-96d6-764f073a4008",
   "metadata": {},
   "outputs": [
    {
     "data": {
      "text/html": [
       "<div>\n",
       "<style scoped>\n",
       "    .dataframe tbody tr th:only-of-type {\n",
       "        vertical-align: middle;\n",
       "    }\n",
       "\n",
       "    .dataframe tbody tr th {\n",
       "        vertical-align: top;\n",
       "    }\n",
       "\n",
       "    .dataframe thead th {\n",
       "        text-align: right;\n",
       "    }\n",
       "</style>\n",
       "<table border=\"1\" class=\"dataframe\">\n",
       "  <thead>\n",
       "    <tr style=\"text-align: right;\">\n",
       "      <th></th>\n",
       "      <th>Open</th>\n",
       "      <th>High</th>\n",
       "      <th>Low</th>\n",
       "      <th>Close</th>\n",
       "      <th>Adj Close</th>\n",
       "      <th>Volume</th>\n",
       "    </tr>\n",
       "  </thead>\n",
       "  <tbody>\n",
       "    <tr>\n",
       "      <th>count</th>\n",
       "      <td>12580.000000</td>\n",
       "      <td>12580.000000</td>\n",
       "      <td>12580.000000</td>\n",
       "      <td>12580.000000</td>\n",
       "      <td>12580.000000</td>\n",
       "      <td>1.258000e+04</td>\n",
       "    </tr>\n",
       "    <tr>\n",
       "      <th>mean</th>\n",
       "      <td>171.650511</td>\n",
       "      <td>174.152626</td>\n",
       "      <td>169.017963</td>\n",
       "      <td>171.651667</td>\n",
       "      <td>169.729752</td>\n",
       "      <td>3.977808e+07</td>\n",
       "    </tr>\n",
       "    <tr>\n",
       "      <th>std</th>\n",
       "      <td>160.986591</td>\n",
       "      <td>164.374458</td>\n",
       "      <td>157.251344</td>\n",
       "      <td>160.876030</td>\n",
       "      <td>161.483350</td>\n",
       "      <td>4.359162e+07</td>\n",
       "    </tr>\n",
       "    <tr>\n",
       "      <th>min</th>\n",
       "      <td>31.622499</td>\n",
       "      <td>32.494999</td>\n",
       "      <td>31.115000</td>\n",
       "      <td>31.770000</td>\n",
       "      <td>31.554657</td>\n",
       "      <td>1.144000e+06</td>\n",
       "    </tr>\n",
       "    <tr>\n",
       "      <th>25%</th>\n",
       "      <td>80.895001</td>\n",
       "      <td>81.603002</td>\n",
       "      <td>79.991875</td>\n",
       "      <td>80.970875</td>\n",
       "      <td>78.738447</td>\n",
       "      <td>9.803300e+06</td>\n",
       "    </tr>\n",
       "    <tr>\n",
       "      <th>50%</th>\n",
       "      <td>124.880001</td>\n",
       "      <td>126.271248</td>\n",
       "      <td>123.320000</td>\n",
       "      <td>124.979999</td>\n",
       "      <td>122.454689</td>\n",
       "      <td>2.466310e+07</td>\n",
       "    </tr>\n",
       "    <tr>\n",
       "      <th>75%</th>\n",
       "      <td>184.313126</td>\n",
       "      <td>186.727505</td>\n",
       "      <td>181.885002</td>\n",
       "      <td>184.715004</td>\n",
       "      <td>183.013229</td>\n",
       "      <td>5.338752e+07</td>\n",
       "    </tr>\n",
       "    <tr>\n",
       "      <th>max</th>\n",
       "      <td>1234.410034</td>\n",
       "      <td>1243.489990</td>\n",
       "      <td>1217.000000</td>\n",
       "      <td>1229.910034</td>\n",
       "      <td>1229.910034</td>\n",
       "      <td>4.265100e+08</td>\n",
       "    </tr>\n",
       "  </tbody>\n",
       "</table>\n",
       "</div>"
      ],
      "text/plain": [
       "               Open          High           Low         Close     Adj Close  \\\n",
       "count  12580.000000  12580.000000  12580.000000  12580.000000  12580.000000   \n",
       "mean     171.650511    174.152626    169.017963    171.651667    169.729752   \n",
       "std      160.986591    164.374458    157.251344    160.876030    161.483350   \n",
       "min       31.622499     32.494999     31.115000     31.770000     31.554657   \n",
       "25%       80.895001     81.603002     79.991875     80.970875     78.738447   \n",
       "50%      124.880001    126.271248    123.320000    124.979999    122.454689   \n",
       "75%      184.313126    186.727505    181.885002    184.715004    183.013229   \n",
       "max     1234.410034   1243.489990   1217.000000   1229.910034   1229.910034   \n",
       "\n",
       "             Volume  \n",
       "count  1.258000e+04  \n",
       "mean   3.977808e+07  \n",
       "std    4.359162e+07  \n",
       "min    1.144000e+06  \n",
       "25%    9.803300e+06  \n",
       "50%    2.466310e+07  \n",
       "75%    5.338752e+07  \n",
       "max    4.265100e+08  "
      ]
     },
     "execution_count": 3,
     "metadata": {},
     "output_type": "execute_result"
    }
   ],
   "source": [
    "df.describe()"
   ]
  },
  {
   "cell_type": "code",
   "execution_count": 8,
   "id": "7081f39c-bf89-458e-8376-8181f9c5d49f",
   "metadata": {},
   "outputs": [
    {
     "name": "stdout",
     "output_type": "stream",
     "text": [
      "<class 'pandas.core.frame.DataFrame'>\n",
      "RangeIndex: 12580 entries, 0 to 12579\n",
      "Data columns (total 8 columns):\n",
      " #   Column     Non-Null Count  Dtype  \n",
      "---  ------     --------------  -----  \n",
      " 0   Date       12580 non-null  object \n",
      " 1   Open       12580 non-null  float64\n",
      " 2   High       12580 non-null  float64\n",
      " 3   Low        12580 non-null  float64\n",
      " 4   Close      12580 non-null  float64\n",
      " 5   Adj Close  12580 non-null  float64\n",
      " 6   Volume     12580 non-null  int64  \n",
      " 7   Company    12580 non-null  object \n",
      "dtypes: float64(5), int64(1), object(2)\n",
      "memory usage: 786.4+ KB\n"
     ]
    }
   ],
   "source": [
    "df.info()"
   ]
  },
  {
   "cell_type": "code",
   "execution_count": 9,
   "id": "6a82776e-808e-493b-916b-c1f0fadb787f",
   "metadata": {},
   "outputs": [
    {
     "data": {
      "text/plain": [
       "0        07-08-2017\n",
       "1        08-08-2017\n",
       "2        09-08-2017\n",
       "3        10-08-2017\n",
       "4        11-08-2017\n",
       "            ...    \n",
       "12575    29-07-2022\n",
       "12576    01-08-2022\n",
       "12577    02-08-2022\n",
       "12578    03-08-2022\n",
       "12579    04-08-2022\n",
       "Name: Date, Length: 12580, dtype: object"
      ]
     },
     "execution_count": 9,
     "metadata": {},
     "output_type": "execute_result"
    }
   ],
   "source": [
    "df.Date"
   ]
  },
  {
   "cell_type": "code",
   "execution_count": 11,
   "id": "9fe98ae1-25ec-4a62-863f-aa062835ecbc",
   "metadata": {},
   "outputs": [
    {
     "data": {
      "text/plain": [
       "Date         08-08-2017\n",
       "Open          39.650002\n",
       "High            40.4575\n",
       "Low           39.567501\n",
       "Close             40.02\n",
       "Adj Close     37.885582\n",
       "Volume        144823600\n",
       "Company            AAPL\n",
       "Name: 1, dtype: object"
      ]
     },
     "execution_count": 11,
     "metadata": {},
     "output_type": "execute_result"
    }
   ],
   "source": [
    "df.iloc[1]"
   ]
  },
  {
   "cell_type": "markdown",
   "id": "265cf326-be9d-40cd-b272-db7c5c2fe1b4",
   "metadata": {},
   "source": [
    "* 2"
   ]
  },
  {
   "cell_type": "code",
   "execution_count": 18,
   "id": "4521fb32-ef29-44f4-a5c2-9d33ae6de8e8",
   "metadata": {},
   "outputs": [
    {
     "data": {
      "text/plain": [
       "array([[0.],\n",
       "       [0.],\n",
       "       [0.],\n",
       "       [0.],\n",
       "       [0.],\n",
       "       [0.],\n",
       "       [0.],\n",
       "       [0.],\n",
       "       [0.],\n",
       "       [0.]])"
      ]
     },
     "execution_count": 18,
     "metadata": {},
     "output_type": "execute_result"
    }
   ],
   "source": [
    "import numpy as np\n",
    "\n",
    "my_array = np.zeros((10,1))\n",
    "my_array"
   ]
  },
  {
   "cell_type": "markdown",
   "id": "80003061-dc09-4797-8d82-f688e4fa1b83",
   "metadata": {},
   "source": [
    "* 3"
   ]
  },
  {
   "cell_type": "code",
   "execution_count": 19,
   "id": "234b2444-c864-4c53-9a71-7ce496031f9b",
   "metadata": {},
   "outputs": [
    {
     "data": {
      "text/plain": [
       "array([5.8, 5.8, 5.8, 5.8, 5.8, 5.8, 5.8, 5.8, 5.8, 5.8])"
      ]
     },
     "execution_count": 19,
     "metadata": {},
     "output_type": "execute_result"
    }
   ],
   "source": [
    "my_array = np.array([5.8]*10)\n",
    "my_array"
   ]
  },
  {
   "cell_type": "markdown",
   "id": "c31c482b-0655-46f3-a3e5-f96688588cc0",
   "metadata": {},
   "source": [
    "* 4"
   ]
  },
  {
   "cell_type": "code",
   "execution_count": 44,
   "id": "9440baa4-6e3e-49c4-b646-11caf1989f9f",
   "metadata": {},
   "outputs": [
    {
     "data": {
      "text/plain": [
       "matrix([[  81,  135,  576],\n",
       "        [ 135,  225,  960],\n",
       "        [ 576,  960, 4096]])"
      ]
     },
     "execution_count": 44,
     "metadata": {},
     "output_type": "execute_result"
    }
   ],
   "source": [
    "np.random.seed(10)\n",
    "my_array = np.array([i for i in np.random.randint(0,100,3)])\n",
    "np.dot(np.matrix(my_array).T, np.matrix(my_array))"
   ]
  },
  {
   "cell_type": "markdown",
   "id": "28821bc3-029d-43b0-b2ea-be88afeaafd5",
   "metadata": {},
   "source": [
    "* 6"
   ]
  },
  {
   "cell_type": "code",
   "execution_count": 11,
   "id": "d2725c28-f8b2-4077-b8ab-12f063a5e02a",
   "metadata": {},
   "outputs": [
    {
     "data": {
      "text/plain": [
       "array([[ 5.,  0., 72.,  0., 26.,  0., 77.,  0.],\n",
       "       [ 0., 57.,  0., 89.,  0., 98.,  0., 60.],\n",
       "       [17.,  0., 66.,  0., 25.,  0., 95.,  0.],\n",
       "       [ 0., 46.,  0., 32.,  0., 46.,  0., 12.],\n",
       "       [ 7.,  0., 94.,  0., 11.,  0.,  7.,  0.],\n",
       "       [ 0., 65.,  0., 82.,  0., 38.,  0., 96.],\n",
       "       [65.,  0.,  8.,  0., 62.,  0., 37.,  0.],\n",
       "       [ 0., 41.,  0., 21.,  0., 27.,  0., 69.]])"
      ]
     },
     "execution_count": 11,
     "metadata": {},
     "output_type": "execute_result"
    }
   ],
   "source": [
    "import numpy as np\n",
    "my_array = np.zeros((8,8))\n",
    "\n",
    "for k,i in enumerate(my_array):\n",
    "    if k%2 == 0:\n",
    "        my_array[k] = [np.random.randint(1,100) if n%2 == 0 else 0 for n,m in enumerate(i)]\n",
    "    else:\n",
    "        my_array[k] = [np.random.randint(1,100) if n%2 != 0 else 0 for n,m in enumerate(i)]\n",
    "\n",
    "my_array"
   ]
  },
  {
   "cell_type": "markdown",
   "id": "8d526413-1621-43a0-82b7-3d5ef2b0c206",
   "metadata": {},
   "source": [
    "* 7"
   ]
  },
  {
   "cell_type": "code",
   "execution_count": 20,
   "id": "e6a63b91-a67d-4f41-93bb-fd99d1fd83d2",
   "metadata": {},
   "outputs": [
    {
     "data": {
      "text/plain": [
       "array([[10, 16, 65, 29],\n",
       "       [90, 94, 30,  9],\n",
       "       [74,  1, 41, 37],\n",
       "       [17, 12, 55, 89]])"
      ]
     },
     "execution_count": 20,
     "metadata": {},
     "output_type": "execute_result"
    }
   ],
   "source": [
    "np.random.seed(10)\n",
    "my_array = np.random.randint(1,100,4*4)\n",
    "my_array = my_array.reshape(4,4)\n",
    "my_array"
   ]
  },
  {
   "cell_type": "markdown",
   "id": "e45d8f32-7143-4326-a68f-7c2aa5694b29",
   "metadata": {},
   "source": [
    "* 8"
   ]
  },
  {
   "cell_type": "code",
   "execution_count": 16,
   "id": "01883a70-2e44-4584-b4cd-485a9cb07ed7",
   "metadata": {},
   "outputs": [
    {
     "data": {
      "text/plain": [
       "(63.57192010714263, 2.177803784883395e-12)"
      ]
     },
     "execution_count": 16,
     "metadata": {},
     "output_type": "execute_result"
    }
   ],
   "source": [
    "import scipy as sc\n",
    "import scipy.integrate as integr\n",
    "\n",
    "formula = lambda x: np.sin(x) * x**2\n",
    "\n",
    "result = integr.quad(formula, -3, 10)\n",
    "result"
   ]
  },
  {
   "cell_type": "markdown",
   "id": "f5ada3f2-ded9-4084-8bbe-5a8b826ce44a",
   "metadata": {},
   "source": [
    "* 9"
   ]
  },
  {
   "cell_type": "code",
   "execution_count": 21,
   "id": "7d77f493-a45d-4742-8f44-cee9bf86ac45",
   "metadata": {},
   "outputs": [
    {
     "data": {
      "text/plain": [
       "array([[10, 16, 65, 29],\n",
       "       [90, 94, 30,  9],\n",
       "       [74,  1, 41, 37],\n",
       "       [17, 12, 55, 89]])"
      ]
     },
     "execution_count": 21,
     "metadata": {},
     "output_type": "execute_result"
    }
   ],
   "source": [
    "my_array"
   ]
  },
  {
   "cell_type": "code",
   "execution_count": 27,
   "id": "a5bba5ad-c6c8-44f5-8a42-82f01ddd3953",
   "metadata": {},
   "outputs": [
    {
     "name": "stdout",
     "output_type": "stream",
     "text": [
      "Определитель = -26753069.00000006\n"
     ]
    }
   ],
   "source": [
    "print('Определитель =', np.linalg.det(my_array))"
   ]
  },
  {
   "cell_type": "code",
   "execution_count": 30,
   "id": "417f2ab1-56ee-49b9-8071-20cb0b467248",
   "metadata": {},
   "outputs": [
    {
     "name": "stdout",
     "output_type": "stream",
     "text": [
      "Обратная матрица =\n"
     ]
    },
    {
     "data": {
      "text/plain": [
       "array([[-0.01,  0.  ,  0.01, -0.  ],\n",
       "       [-0.  ,  0.01, -0.01,  0.  ],\n",
       "       [ 0.02, -0.  ,  0.  , -0.01],\n",
       "       [-0.01,  0.  , -0.  ,  0.02]])"
      ]
     },
     "execution_count": 30,
     "metadata": {},
     "output_type": "execute_result"
    }
   ],
   "source": [
    "print('Обратная матрица =')\n",
    "np.round(np.linalg.inv(my_array),2)"
   ]
  },
  {
   "cell_type": "code",
   "execution_count": 34,
   "id": "3c4b34dd-1d84-41c8-a0b1-245dc02755b6",
   "metadata": {},
   "outputs": [
    {
     "name": "stdout",
     "output_type": "stream",
     "text": [
      "Собственный вектор =\n",
      "array([-49.40725094, 158.83745013,  40.59653538,  83.97326543])\n",
      "Собственные значения =\n",
      "array([[ 0.68181415, -0.3358446 ,  0.26166703,  0.02712017],\n",
      "       [-0.30740179, -0.70777393, -0.64078491, -0.96446726],\n",
      "       [-0.63450088, -0.37300421,  0.50914029,  0.18498537],\n",
      "       [ 0.19504418, -0.49712406, -0.51156744,  0.18667568]])\n"
     ]
    }
   ],
   "source": [
    "from pprint import pprint\n",
    "print('Собственный вектор =')\n",
    "pprint(np.linalg.eig(my_array)[0])\n",
    "print('Собственные значения =')\n",
    "pprint(np.linalg.eig(my_array)[1])"
   ]
  },
  {
   "cell_type": "code",
   "execution_count": 114,
   "id": "a09ce7bf-13bc-418a-8868-80d4eba7e2e9",
   "metadata": {},
   "outputs": [
    {
     "data": {
      "text/plain": [
       "<matplotlib.legend.Legend at 0x7f8518a85ca0>"
      ]
     },
     "execution_count": 114,
     "metadata": {},
     "output_type": "execute_result"
    },
    {
     "data": {
      "image/png": "[encoded data removed]",
      "text/plain": [
       "<Figure size 1080x360 with 3 Axes>"
      ]
     },
     "metadata": {},
     "output_type": "display_data"
    }
   ],
   "source": [
    "from matplotlib import pyplot as plt\n",
    "\n",
    "\n",
    "plt.style.use('seaborn-dark')\n",
    "x = np.linspace(0,10,1000)\n",
    "y_sin = np.sin(x)\n",
    "y_cos = np.cos(x)\n",
    "\n",
    "figure, ax = plt.subplots(1,3,figsize=(15,5))\n",
    "ax[0].plot(x,y_sin, label = 'sinus',c='black')\n",
    "ax[0].grid()\n",
    "ax[0].legend(loc='lower left')\n",
    "ax[0].set_title('Синус икса')\n",
    "ax[1].plot(x,y_sin, label = 'sinus',c='black')\n",
    "ax[1].plot(x,y_cos, label = 'cosinus',c='red')\n",
    "ax[1].grid()\n",
    "ax[1].legend(loc='lower left')\n",
    "ax[1].set_title('Синус и косинус икса')\n",
    "ax[2].plot(x,y_cos, label = 'cosinus',c='red')\n",
    "ax[2].grid()\n",
    "ax[2].set_title('Косинус икса')\n",
    "ax[2].legend(loc='lower left')"
   ]
  }
 ],
 "metadata": {
  "kernelspec": {
   "display_name": "Python 3 (ipykernel)",
   "language": "python",
   "name": "python3"
  },
  "language_info": {
   "codemirror_mode": {
    "name": "ipython",
    "version": 3
   },
   "file_extension": ".py",
   "mimetype": "text/x-python",
   "name": "python",
   "nbconvert_exporter": "python",
   "pygments_lexer": "ipython3",
   "version": "3.9.7"
  }
 },
 "nbformat": 4,
 "nbformat_minor": 5
}
