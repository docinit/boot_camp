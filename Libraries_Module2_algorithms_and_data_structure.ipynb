{
 "cells": [
  {
   "cell_type": "markdown",
   "id": "4106c4b1-69bc-491f-a5c5-73a340c00dfb",
   "metadata": {},
   "source": [
    "# Алгоритмы\n",
    "1. Реализуйте бинарный поиск\n",
    "2. Реализуйте несколько алгоритмов сортировки и сравните их время работы на одних и тех же входных данных"
   ]
  },
  {
   "cell_type": "markdown",
   "id": "2cd3641a-2de2-4e25-9e02-0201cd062542",
   "metadata": {},
   "source": [
    "## бинарный поиск"
   ]
  },
  {
   "cell_type": "code",
   "execution_count": 122,
   "id": "c00e7dd6-ff5e-4b14-9736-1fa2cb0f0ec8",
   "metadata": {
    "tags": []
   },
   "outputs": [
    {
     "name": "stdout",
     "output_type": "stream",
     "text": [
      "['Сортировка', 'а', 'большее.', 'в', 'говорим,', 'идет', 'конкретный', 'меньшее', 'мы', 'означает', 'определенном', 'определяется', 'порядке.Этот', 'порядок', 'потом', 'размещение', 'свойством', 'случае', 'сначала', 'сравнения', 'целых', 'чисел', 'число,', 'что', 'элементов', 'элементов.В', '—']\n"
     ]
    },
    {
     "name": "stdin",
     "output_type": "stream",
     "text": [
      "Введите слово для поиска:  конкретный\n"
     ]
    },
    {
     "name": "stdout",
     "output_type": "stream",
     "text": [
      "Слово найдено на месте 7\n"
     ]
    }
   ],
   "source": [
    "array_for_search = '''\n",
    "Сортировка означает размещение элементов в определенном порядке.\n",
    "Этот конкретный порядок определяется свойством сравнения элементов.\n",
    "В случае целых чисел мы говорим, что сначала идет меньшее число, а потом — большее. \n",
    "'''\n",
    "array_for_search = sorted(array_for_search.replace('\\n','').strip().split(' '))\n",
    "print(array_for_search)\n",
    "find = input('Введите слово для поиска: ')\n",
    "i = 1\n",
    "counter = 0\n",
    "length = len(array_for_search)\n",
    "while i<length:\n",
    "    if len(array_for_search)>0:\n",
    "        if find == ''.join([_ for _ in array_for_search[len(array_for_search)//2] if _.isalpha()]):\n",
    "            print(f'Слово найдено на месте {len(array_for_search)//2 + counter + 1}')\n",
    "            break\n",
    "        elif find<array_for_search[len(array_for_search)//2]:\n",
    "            wherefind = 'left'\n",
    "        else:\n",
    "            wherefind = 'right'\n",
    "    elif i == length/2:\n",
    "        length = 0\n",
    "        print('Слово не найдено!')\n",
    "        break\n",
    "    else:\n",
    "        print('Слово не найдено')\n",
    "        break\n",
    "    if wherefind == 'left':\n",
    "        array_for_search = array_for_search[:len(array_for_search)//2]\n",
    "        \n",
    "    elif wherefind == 'right':\n",
    "        counter += len(array_for_search[:len(array_for_search)//2])\n",
    "        array_for_search = array_for_search[len(array_for_search)//2:]\n",
    "        \n",
    "    else:\n",
    "        print('Произошла ошибка во время поиска')\n",
    "    i+=1\n"
   ]
  },
  {
   "cell_type": "markdown",
   "id": "6db1c2d0-b598-4417-bfa1-61c594de9f4b",
   "metadata": {},
   "source": [
    "## сортировка"
   ]
  },
  {
   "cell_type": "code",
   "execution_count": 6,
   "id": "f7253955-002f-417f-baff-c42a20427649",
   "metadata": {
    "tags": []
   },
   "outputs": [
    {
     "name": "stdout",
     "output_type": "stream",
     "text": [
      "CPU times: user 3.41 s, sys: 6.84 ms, total: 3.42 s\n",
      "Wall time: 3.44 s\n"
     ]
    }
   ],
   "source": [
    "%%time\n",
    "import random\n",
    "\n",
    "unsorted_array = [random.randint(1,100) for i in range(3000)]\n",
    "sorted_array = unsorted_array.copy()\n",
    "counter = 0\n",
    "check_counter = 0\n",
    "while counter!=-1:\n",
    "    for k,item in enumerate(sorted_array):\n",
    "        if k+1 < len(sorted_array):\n",
    "            next_item = sorted_array[k+1] \n",
    "            if item > next_item:\n",
    "                sorted_array[k+1] = item\n",
    "                sorted_array[k] = next_item\n",
    "                counter+=1\n",
    "            else:\n",
    "                continue\n",
    "        else:\n",
    "            continue\n",
    "    if counter == check_counter:\n",
    "        counter = -1\n",
    "    else:\n",
    "        check_counter = counter\n"
   ]
  },
  {
   "cell_type": "code",
   "execution_count": 52,
   "id": "bb773421-cb0b-4c4b-b76b-d033d1411e44",
   "metadata": {},
   "outputs": [
    {
     "name": "stdout",
     "output_type": "stream",
     "text": [
      "True\n"
     ]
    }
   ],
   "source": [
    "print(sorted_array == sorted(unsorted_array))"
   ]
  },
  {
   "cell_type": "code",
   "execution_count": 4,
   "id": "d89dff7d-50c5-43f6-bd21-dd83f42042eb",
   "metadata": {
    "tags": []
   },
   "outputs": [
    {
     "name": "stdout",
     "output_type": "stream",
     "text": [
      "CPU times: user 1.26 s, sys: 5.32 ms, total: 1.27 s\n",
      "Wall time: 1.28 s\n"
     ]
    }
   ],
   "source": [
    "%%time\n",
    "import random\n",
    "\n",
    "unsorted_array = [random.randint(1,100) for i in range(1000)]\n",
    "sorted_array = unsorted_array.copy()\n",
    "\n",
    "def sorted_array_func(sorted_array):\n",
    "    if len(sorted_array)==2:\n",
    "        if sorted_array[0]>sorted_array[1]:\n",
    "            sorted_array[0],sorted_array[1] = sorted_array[1],sorted_array[0]\n",
    "        return sorted_array\n",
    "    elif len(sorted_array)==1:\n",
    "        return sorted_array\n",
    "    else:\n",
    "        left = sorted_array[:len(sorted_array)//2]\n",
    "        right = sorted_array[len(sorted_array)//2:]\n",
    "        if True:\n",
    "            while left[-1]>right[0]:\n",
    "                left[-1],right[0] = right[0],left[-1]\n",
    "            left = sorted_array_func(left)\n",
    "            right = sorted_array_func(right)\n",
    "        while left[-1]>right[0]:\n",
    "            left[-1],right[0] = right[0],left[-1]\n",
    "            if len(left)>1 and left[-1]<left[-2]:\n",
    "                left = sorted_array_func(left)\n",
    "            if right[0] > right[-1]:\n",
    "                right = sorted_array_func(right)\n",
    "            return sorted_array_func(left + right)\n",
    "    return left + right\n",
    "sorted_array = sorted_array_func(sorted_array)"
   ]
  },
  {
   "cell_type": "code",
   "execution_count": 5,
   "id": "e0b85090-9189-46bd-8d74-27f7a363ab80",
   "metadata": {},
   "outputs": [
    {
     "data": {
      "text/plain": [
       "True"
      ]
     },
     "execution_count": 5,
     "metadata": {},
     "output_type": "execute_result"
    }
   ],
   "source": [
    "sorted_array == sorted(unsorted_array)"
   ]
  },
  {
   "cell_type": "code",
   "execution_count": 42,
   "id": "0c79ff2b-0f4f-4eab-8fc8-36f40f27a7b6",
   "metadata": {},
   "outputs": [
    {
     "name": "stdout",
     "output_type": "stream",
     "text": [
      "CPU times: user 3.28 s, sys: 0 ns, total: 3.28 s\n",
      "Wall time: 3.3 s\n"
     ]
    },
    {
     "data": {
      "text/plain": [
       "10000"
      ]
     },
     "execution_count": 42,
     "metadata": {},
     "output_type": "execute_result"
    }
   ],
   "source": [
    "%%time\n",
    "import random\n",
    "\n",
    "unsorted_array = [random.randint(1,100) for i in range(10000)]\n",
    "unsorted_array_ = unsorted_array.copy()\n",
    "sorted_array = []\n",
    "length = len(unsorted_array)\n",
    "while length>len(sorted_array):\n",
    "    minimum = unsorted_array[0]\n",
    "    for i in unsorted_array:\n",
    "        if i<minimum:\n",
    "            minimum = i\n",
    "    unsorted_array.pop(unsorted_array.index(minimum))\n",
    "    sorted_array.append(minimum)\n",
    "    \n",
    "len(sorted_array)\n"
   ]
  },
  {
   "cell_type": "code",
   "execution_count": 21,
   "id": "cf18ff3d-04d6-480e-9672-631fe556b8bc",
   "metadata": {},
   "outputs": [
    {
     "data": {
      "text/plain": [
       "True"
      ]
     },
     "execution_count": 21,
     "metadata": {},
     "output_type": "execute_result"
    }
   ],
   "source": [
    "sorted_array == sorted(unsorted_array_)"
   ]
  },
  {
   "cell_type": "code",
   "execution_count": 43,
   "id": "16353f81-8c54-4338-902c-82f939f1bf8a",
   "metadata": {},
   "outputs": [
    {
     "name": "stdout",
     "output_type": "stream",
     "text": [
      "CPU times: user 5.29 s, sys: 3.83 ms, total: 5.3 s\n",
      "Wall time: 5.32 s\n"
     ]
    },
    {
     "data": {
      "text/plain": [
       "10000"
      ]
     },
     "execution_count": 43,
     "metadata": {},
     "output_type": "execute_result"
    }
   ],
   "source": [
    "%%time\n",
    "import random\n",
    "\n",
    "unsorted_array = [random.randint(1,100) for i in range(10000)]\n",
    "length = len(unsorted_array)\n",
    "minimum = unsorted_array[0]\n",
    "for ex_k in range(len(unsorted_array)):\n",
    "    minimum = unsorted_array[ex_k]\n",
    "    for k,i in enumerate(unsorted_array[ex_k:]):\n",
    "        if i<minimum:\n",
    "            minimum = i\n",
    "            index = k+ex_k\n",
    "            unsorted_array[ex_k],unsorted_array[index] = unsorted_array[index],unsorted_array[ex_k]\n",
    "    \n",
    "len(unsorted_array)\n"
   ]
  },
  {
   "cell_type": "code",
   "execution_count": 38,
   "id": "ea013150-f0ab-4f2a-83ef-046378d6796b",
   "metadata": {},
   "outputs": [
    {
     "data": {
      "text/plain": [
       "True"
      ]
     },
     "execution_count": 38,
     "metadata": {},
     "output_type": "execute_result"
    }
   ],
   "source": [
    "unsorted_array == sorted(unsorted_array)"
   ]
  },
  {
   "cell_type": "code",
   "execution_count": null,
   "id": "35cd06ff-8b49-4e37-925a-0ad37e4c9afb",
   "metadata": {},
   "outputs": [],
   "source": []
  }
 ],
 "metadata": {
  "kernelspec": {
   "display_name": "Python 3 (ipykernel)",
   "language": "python",
   "name": "python3"
  },
  "language_info": {
   "codemirror_mode": {
    "name": "ipython",
    "version": 3
   },
   "file_extension": ".py",
   "mimetype": "text/x-python",
   "name": "python",
   "nbconvert_exporter": "python",
   "pygments_lexer": "ipython3",
   "version": "3.9.7"
  }
 },
 "nbformat": 4,
 "nbformat_minor": 5
}
